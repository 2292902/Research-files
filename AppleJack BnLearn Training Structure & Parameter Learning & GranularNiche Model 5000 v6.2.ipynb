{
 "cells": [
  {
   "cell_type": "markdown",
   "id": "8e0c6ec9",
   "metadata": {},
   "source": [
    "## AppleJack BnLearn Training Structure & Parameter Learning & GranularNiche Model 5000 v6.2"
   ]
  },
  {
   "cell_type": "code",
   "execution_count": 1,
   "id": "54927a04",
   "metadata": {},
   "outputs": [],
   "source": [
    "import pgmpy as p\n",
    "import bnlearn as bn\n",
    "from pgmpy.models import BayesianNetwork\n",
    "from pgmpy.models import BayesianModel\n",
    "from pgmpy.factors.discrete import TabularCPD\n",
    "import networkx as nx\n",
    "import matplotlib.pyplot as plt\n",
    "from pgmpy.estimators import ParameterEstimator\n",
    "from pgmpy.estimators import BayesianEstimator\n",
    "from pgmpy.estimators import HillClimbSearch, BDeuScore, BicScore\n",
    "from pgmpy.models import BayesianNetwork\n",
    "from pgmpy.factors.discrete import TabularCPD\n",
    "from pgmpy.sampling import BayesianModelSampling\n",
    "from bnlearn import structure_learning\n",
    "from bnlearn import parameter_learning\n",
    "from pgmpy.inference import VariableElimination\n",
    "import numpy as np\n",
    "import pandas as pd\n",
    "import statsmodels.api as sm\n",
    "from scipy.stats import beta"
   ]
  },
  {
   "cell_type": "markdown",
   "id": "a08c802f",
   "metadata": {},
   "source": [
    "### Training"
   ]
  },
  {
   "cell_type": "code",
   "execution_count": 2,
   "id": "10735aae",
   "metadata": {},
   "outputs": [
    {
     "data": {
      "text/html": [
       "<div>\n",
       "<style scoped>\n",
       "    .dataframe tbody tr th:only-of-type {\n",
       "        vertical-align: middle;\n",
       "    }\n",
       "\n",
       "    .dataframe tbody tr th {\n",
       "        vertical-align: top;\n",
       "    }\n",
       "\n",
       "    .dataframe thead th {\n",
       "        text-align: right;\n",
       "    }\n",
       "</style>\n",
       "<table border=\"1\" class=\"dataframe\">\n",
       "  <thead>\n",
       "    <tr style=\"text-align: right;\">\n",
       "      <th></th>\n",
       "      <th>LatVar1</th>\n",
       "      <th>Drought</th>\n",
       "      <th>LatVar2</th>\n",
       "      <th>DryFarm</th>\n",
       "      <th>LatVar3</th>\n",
       "      <th>LowSoilMoisture</th>\n",
       "      <th>LatVar4</th>\n",
       "      <th>DryTree</th>\n",
       "      <th>BadTreeCondition</th>\n",
       "      <th>SickTree</th>\n",
       "      <th>BadCropCondition</th>\n",
       "      <th>LatVar5</th>\n",
       "      <th>LoseLeaves</th>\n",
       "      <th>LatVar6</th>\n",
       "    </tr>\n",
       "  </thead>\n",
       "  <tbody>\n",
       "    <tr>\n",
       "      <th>197431</th>\n",
       "      <td>0</td>\n",
       "      <td>0</td>\n",
       "      <td>0</td>\n",
       "      <td>0</td>\n",
       "      <td>1</td>\n",
       "      <td>1</td>\n",
       "      <td>0</td>\n",
       "      <td>1</td>\n",
       "      <td>1</td>\n",
       "      <td>0</td>\n",
       "      <td>1</td>\n",
       "      <td>1</td>\n",
       "      <td>0</td>\n",
       "      <td>0</td>\n",
       "    </tr>\n",
       "    <tr>\n",
       "      <th>28215</th>\n",
       "      <td>0</td>\n",
       "      <td>1</td>\n",
       "      <td>1</td>\n",
       "      <td>1</td>\n",
       "      <td>0</td>\n",
       "      <td>1</td>\n",
       "      <td>1</td>\n",
       "      <td>1</td>\n",
       "      <td>1</td>\n",
       "      <td>0</td>\n",
       "      <td>1</td>\n",
       "      <td>1</td>\n",
       "      <td>1</td>\n",
       "      <td>1</td>\n",
       "    </tr>\n",
       "    <tr>\n",
       "      <th>140772</th>\n",
       "      <td>0</td>\n",
       "      <td>0</td>\n",
       "      <td>0</td>\n",
       "      <td>0</td>\n",
       "      <td>1</td>\n",
       "      <td>0</td>\n",
       "      <td>0</td>\n",
       "      <td>1</td>\n",
       "      <td>1</td>\n",
       "      <td>0</td>\n",
       "      <td>0</td>\n",
       "      <td>0</td>\n",
       "      <td>0</td>\n",
       "      <td>0</td>\n",
       "    </tr>\n",
       "    <tr>\n",
       "      <th>32671</th>\n",
       "      <td>0</td>\n",
       "      <td>1</td>\n",
       "      <td>1</td>\n",
       "      <td>1</td>\n",
       "      <td>1</td>\n",
       "      <td>0</td>\n",
       "      <td>0</td>\n",
       "      <td>0</td>\n",
       "      <td>0</td>\n",
       "      <td>0</td>\n",
       "      <td>0</td>\n",
       "      <td>1</td>\n",
       "      <td>1</td>\n",
       "      <td>1</td>\n",
       "    </tr>\n",
       "    <tr>\n",
       "      <th>75621</th>\n",
       "      <td>0</td>\n",
       "      <td>0</td>\n",
       "      <td>1</td>\n",
       "      <td>1</td>\n",
       "      <td>1</td>\n",
       "      <td>1</td>\n",
       "      <td>1</td>\n",
       "      <td>1</td>\n",
       "      <td>0</td>\n",
       "      <td>0</td>\n",
       "      <td>0</td>\n",
       "      <td>1</td>\n",
       "      <td>1</td>\n",
       "      <td>0</td>\n",
       "    </tr>\n",
       "  </tbody>\n",
       "</table>\n",
       "</div>"
      ],
      "text/plain": [
       "        LatVar1  Drought  LatVar2  DryFarm  LatVar3  LowSoilMoisture  LatVar4  \\\n",
       "197431        0        0        0        0        1                1        0   \n",
       "28215         0        1        1        1        0                1        1   \n",
       "140772        0        0        0        0        1                0        0   \n",
       "32671         0        1        1        1        1                0        0   \n",
       "75621         0        0        1        1        1                1        1   \n",
       "\n",
       "        DryTree  BadTreeCondition  SickTree  BadCropCondition  LatVar5  \\\n",
       "197431        1                 1         0                 1        1   \n",
       "28215         1                 1         0                 1        1   \n",
       "140772        1                 1         0                 0        0   \n",
       "32671         0                 0         0                 0        1   \n",
       "75621         1                 0         0                 0        1   \n",
       "\n",
       "        LoseLeaves  LatVar6  \n",
       "197431           0        0  \n",
       "28215            1        1  \n",
       "140772           0        0  \n",
       "32671            1        1  \n",
       "75621            1        0  "
      ]
     },
     "execution_count": 2,
     "metadata": {},
     "output_type": "execute_result"
    }
   ],
   "source": [
    "# Read the CSV file and skip the \"Unnamed\" column\n",
    "ground_truth_df = pd.read_csv(\"GT168000_train_data.csv\", index_col=0)\n",
    "ground_truth_df.head()"
   ]
  },
  {
   "cell_type": "code",
   "execution_count": 3,
   "id": "3db850d0",
   "metadata": {},
   "outputs": [],
   "source": [
    "# Define the structure\n",
    "model_structure = [('Drought', 'DryFarm'), ('DryFarm', 'LowSoilMoisture'), ('LowSoilMoisture', 'DryTree'), ('DryTree', 'BadTreeCondition'), ('SickTree', 'BadTreeCondition'), ('BadTreeCondition', 'BadCropCondition'), ('BadTreeCondition', 'LoseLeaves')]\n",
    "\n",
    "# Create the BayesianModel\n",
    "model = BayesianNetwork(model_structure)"
   ]
  },
  {
   "cell_type": "code",
   "execution_count": 4,
   "id": "9a4f0ae9",
   "metadata": {},
   "outputs": [],
   "source": [
    "# Defining all the conditional probabilities tables by a method in pgmpy called TabularCPD\n",
    "cpd_dr = TabularCPD(variable='Drought', variable_card=2, values=[[0.8399], [0.1601]])\n",
    "cpd_st = TabularCPD(variable='SickTree', variable_card=2, values=[[0.8399],[0.1601]])\n",
    "\n",
    "\n",
    "cpd_df = TabularCPD(variable='DryFarm', variable_card=2, \n",
    "                    values=[[0.7950, 0.2050 ],\n",
    "                            [0.2050, 0.7950]],\n",
    "                    evidence=['Drought'],\n",
    "                    evidence_card=[2])\n",
    "\n",
    "cpd_lsm = TabularCPD(variable='LowSoilMoisture', variable_card=2, \n",
    "                    values=[[0.6464, 0.3536],\n",
    "                            [0.3536, 0.6464]],\n",
    "                    evidence=['DryFarm'],\n",
    "                    evidence_card=[2])\n",
    "\n",
    "cpd_dt = TabularCPD(variable='DryTree', variable_card=2, \n",
    "                    values=[[0.7900, 0.2100],\n",
    "                            [0.2100, 0.7900]],\n",
    "                    evidence=['LowSoilMoisture'],\n",
    "                    evidence_card=[2])\n",
    "\n",
    "cpd_btc = TabularCPD(variable='BadTreeCondition', variable_card=2, \n",
    "                    values=[[0.7647, 0.7300, 0.6450, 0.4751],\n",
    "                            [0.2353, 0.2700, 0.3550, 0.5249]],\n",
    "                    evidence=['DryTree','SickTree'],\n",
    "                    evidence_card=[2, 2])\n",
    "\n",
    "cpd_ll = TabularCPD(variable='LoseLeaves', variable_card=2, \n",
    "                    values=[[0.7949, 0.2051],\n",
    "                            [0.2051, 0.7949]],\n",
    "                    evidence=['BadTreeCondition'],\n",
    "                    evidence_card=[2])\n",
    "\n",
    "cpd_bcc = TabularCPD(variable='BadCropCondition', variable_card=2, \n",
    "                    values=[[0.7303, 0.2697],\n",
    "                           [0.2697, 0.7303]],\n",
    "                    evidence=['BadTreeCondition'],\n",
    "                    evidence_card=[2])"
   ]
  },
  {
   "cell_type": "code",
   "execution_count": 5,
   "id": "e4e483bb",
   "metadata": {},
   "outputs": [],
   "source": [
    "# Add the conditional probability tables to the model\n",
    "model.add_cpds(cpd_dr, cpd_dt, cpd_st, cpd_df, cpd_lsm, cpd_btc, cpd_bcc, cpd_ll)"
   ]
  },
  {
   "cell_type": "code",
   "execution_count": 6,
   "id": "60f9baad",
   "metadata": {},
   "outputs": [
    {
     "data": {
      "text/plain": [
       "True"
      ]
     },
     "execution_count": 6,
     "metadata": {},
     "output_type": "execute_result"
    }
   ],
   "source": [
    "# Check if the model is valid\n",
    "model.check_model()"
   ]
  },
  {
   "cell_type": "code",
   "execution_count": 7,
   "id": "c709bb09",
   "metadata": {},
   "outputs": [],
   "source": [
    "# Create a BayesianModelSampling object with the model\n",
    "sampler = BayesianModelSampling(model)"
   ]
  },
  {
   "cell_type": "code",
   "execution_count": 8,
   "id": "7b097354",
   "metadata": {},
   "outputs": [],
   "source": [
    "# Use Bayesian Parameter Estimation to refine the parameter estimates\n",
    "# Set the number of samples and Dirichlet hyperparameters\n",
    "n = 5000"
   ]
  },
  {
   "cell_type": "code",
   "execution_count": 9,
   "id": "5fbd869b",
   "metadata": {},
   "outputs": [
    {
     "data": {
      "application/vnd.jupyter.widget-view+json": {
       "model_id": "9af80a47fb7c4744b5ef329e53f81a8d",
       "version_major": 2,
       "version_minor": 0
      },
      "text/plain": [
       "  0%|          | 0/8 [00:00<?, ?it/s]"
      ]
     },
     "metadata": {},
     "output_type": "display_data"
    }
   ],
   "source": [
    "# Generate 5000 samples from the model using forward sampling\n",
    "samples = sampler.forward_sample(size=5000)"
   ]
  },
  {
   "cell_type": "code",
   "execution_count": 10,
   "id": "c0f45f8b",
   "metadata": {},
   "outputs": [],
   "source": [
    "# Convert the samples to DataFrame format\n",
    "samples_df = pd.DataFrame(samples)"
   ]
  },
  {
   "cell_type": "code",
   "execution_count": 11,
   "id": "13f745d8",
   "metadata": {},
   "outputs": [],
   "source": [
    "df = samples_df"
   ]
  },
  {
   "cell_type": "code",
   "execution_count": 12,
   "id": "23f1b9bf",
   "metadata": {},
   "outputs": [],
   "source": [
    "# Write the DataFrame to a CSV file\n",
    "df.to_csv(\"GTGN5000_train_data.csv\", index=False)"
   ]
  },
  {
   "cell_type": "code",
   "execution_count": 13,
   "id": "e5464b1b",
   "metadata": {},
   "outputs": [
    {
     "data": {
      "text/html": [
       "<div>\n",
       "<style scoped>\n",
       "    .dataframe tbody tr th:only-of-type {\n",
       "        vertical-align: middle;\n",
       "    }\n",
       "\n",
       "    .dataframe tbody tr th {\n",
       "        vertical-align: top;\n",
       "    }\n",
       "\n",
       "    .dataframe thead th {\n",
       "        text-align: right;\n",
       "    }\n",
       "</style>\n",
       "<table border=\"1\" class=\"dataframe\">\n",
       "  <thead>\n",
       "    <tr style=\"text-align: right;\">\n",
       "      <th></th>\n",
       "      <th>DryFarm</th>\n",
       "      <th>LowSoilMoisture</th>\n",
       "      <th>DryTree</th>\n",
       "      <th>BadTreeCondition</th>\n",
       "      <th>SickTree</th>\n",
       "      <th>BadCropCondition</th>\n",
       "      <th>LoseLeaves</th>\n",
       "    </tr>\n",
       "    <tr>\n",
       "      <th>Drought</th>\n",
       "      <th></th>\n",
       "      <th></th>\n",
       "      <th></th>\n",
       "      <th></th>\n",
       "      <th></th>\n",
       "      <th></th>\n",
       "      <th></th>\n",
       "    </tr>\n",
       "  </thead>\n",
       "  <tbody>\n",
       "    <tr>\n",
       "      <th>0</th>\n",
       "      <td>1</td>\n",
       "      <td>1</td>\n",
       "      <td>0</td>\n",
       "      <td>1</td>\n",
       "      <td>0</td>\n",
       "      <td>1</td>\n",
       "      <td>1</td>\n",
       "    </tr>\n",
       "    <tr>\n",
       "      <th>0</th>\n",
       "      <td>0</td>\n",
       "      <td>1</td>\n",
       "      <td>1</td>\n",
       "      <td>1</td>\n",
       "      <td>0</td>\n",
       "      <td>1</td>\n",
       "      <td>1</td>\n",
       "    </tr>\n",
       "    <tr>\n",
       "      <th>0</th>\n",
       "      <td>1</td>\n",
       "      <td>0</td>\n",
       "      <td>0</td>\n",
       "      <td>0</td>\n",
       "      <td>0</td>\n",
       "      <td>0</td>\n",
       "      <td>0</td>\n",
       "    </tr>\n",
       "    <tr>\n",
       "      <th>0</th>\n",
       "      <td>0</td>\n",
       "      <td>0</td>\n",
       "      <td>0</td>\n",
       "      <td>1</td>\n",
       "      <td>0</td>\n",
       "      <td>0</td>\n",
       "      <td>0</td>\n",
       "    </tr>\n",
       "    <tr>\n",
       "      <th>0</th>\n",
       "      <td>0</td>\n",
       "      <td>0</td>\n",
       "      <td>0</td>\n",
       "      <td>0</td>\n",
       "      <td>0</td>\n",
       "      <td>0</td>\n",
       "      <td>1</td>\n",
       "    </tr>\n",
       "  </tbody>\n",
       "</table>\n",
       "</div>"
      ],
      "text/plain": [
       "         DryFarm  LowSoilMoisture  DryTree  BadTreeCondition  SickTree  \\\n",
       "Drought                                                                  \n",
       "0              1                1        0                 1         0   \n",
       "0              0                1        1                 1         0   \n",
       "0              1                0        0                 0         0   \n",
       "0              0                0        0                 1         0   \n",
       "0              0                0        0                 0         0   \n",
       "\n",
       "         BadCropCondition  LoseLeaves  \n",
       "Drought                                \n",
       "0                       1           1  \n",
       "0                       1           1  \n",
       "0                       0           0  \n",
       "0                       0           0  \n",
       "0                       0           1  "
      ]
     },
     "execution_count": 13,
     "metadata": {},
     "output_type": "execute_result"
    }
   ],
   "source": [
    "# Read the CSV file and skip the \"Unnamed\" column\n",
    "ground_truth_df = pd.read_csv(\"GTGN5000_train_data.csv\", index_col=0)\n",
    "ground_truth_df.head()"
   ]
  },
  {
   "cell_type": "code",
   "execution_count": 14,
   "id": "fc0129cc",
   "metadata": {},
   "outputs": [],
   "source": [
    "# Define the structure\n",
    "model_structure = [('Drought', 'DryFarm'), ('DryFarm', 'LowSoilMoisture'), ('LowSoilMoisture', 'DryTree'), ('DryTree', 'BadTreeCondition'), ('SickTree', 'BadTreeCondition'), ('BadTreeCondition', 'BadCropCondition'), ('BadTreeCondition', 'LoseLeaves')]\n",
    "\n",
    "# Create the BayesianModel\n",
    "model = BayesianNetwork(model_structure)"
   ]
  },
  {
   "cell_type": "code",
   "execution_count": 15,
   "id": "b3f65d51",
   "metadata": {},
   "outputs": [],
   "source": [
    "# Alpha and Beta hyperparameters\n",
    "alpha = 80\n",
    "beta = 20\n",
    "\n",
    "# Total count for initial probability calculation\n",
    "total_count = 100\n",
    "\n",
    "# Function to calculate new probabilities with alpha-beta adjustments\n",
    "def adjust_probs(prob, alpha, beta, total_count):\n",
    "    count = prob * total_count\n",
    "    adjusted_count_0 = count + alpha\n",
    "    adjusted_count_1 = (total_count - count) + beta\n",
    "    total_adjusted_count = adjusted_count_0 + adjusted_count_1\n",
    "    return adjusted_count_0 / total_adjusted_count, adjusted_count_1 / total_adjusted_count\n",
    "\n",
    "# CPDs for each variable\n",
    "# CPD for DryFarm\n",
    "prob_dryfarm_0, prob_dryfarm_1 = adjust_probs(0.565333, alpha, beta, total_count)\n",
    "cpd_dryfarm = TabularCPD(variable='DryFarm', variable_card=2, values=[[prob_dryfarm_0], [prob_dryfarm_1]])\n",
    "\n",
    "# CPD for LowSoilMoisture\n",
    "prob_lowsoilmoisture_00, prob_lowsoilmoisture_01 = adjust_probs(0.558962, alpha, beta, total_count)\n",
    "prob_lowsoilmoisture_10, prob_lowsoilmoisture_11 = adjust_probs(0.441038, beta, alpha, total_count)\n",
    "cpd_lowsoilmoisture = TabularCPD(variable='LowSoilMoisture', variable_card=2, \n",
    "                                 values=[[prob_lowsoilmoisture_00, prob_lowsoilmoisture_01],\n",
    "                                         [prob_lowsoilmoisture_10, prob_lowsoilmoisture_11]],\n",
    "                                 evidence=['DryFarm'], evidence_card=[2])\n",
    "\n",
    "# CPD for DryTree\n",
    "prob_drytree_00, prob_drytree_01 = adjust_probs(0.615482, alpha, beta, total_count)\n",
    "prob_drytree_10, prob_drytree_11 = adjust_probs(0.384518, beta, alpha, total_count)\n",
    "cpd_drytree = TabularCPD(variable='DryTree', variable_card=2, \n",
    "                         values=[[prob_drytree_00, prob_drytree_01],\n",
    "                                 [prob_drytree_10, prob_drytree_11]],\n",
    "                         evidence=['LowSoilMoisture'], evidence_card=[2])\n",
    "\n",
    "# CPD for LoseLeaves\n",
    "prob_loseleaves_0, prob_loseleaves_1 = adjust_probs(0.531333, alpha, beta, total_count)\n",
    "cpd_loseleaves = TabularCPD(variable='LoseLeaves', variable_card=2, values=[[prob_loseleaves_0], [prob_loseleaves_1]])\n",
    "\n",
    "# CPD for BadTreeCondition\n",
    "prob_badtreecondition_00, prob_badtreecondition_01 = adjust_probs(0.638645, alpha, beta, total_count)\n",
    "prob_badtreecondition_10, prob_badtreecondition_11 = adjust_probs(0.361355, beta, alpha, total_count)\n",
    "cpd_badtreecondition = TabularCPD(variable='BadTreeCondition', variable_card=2,\n",
    "                        values=[[prob_badtreecondition_00, prob_badtreecondition_01],\n",
    "                               [prob_badtreecondition_10, prob_badtreecondition_11]],\n",
    "                        evidence=['LoseLeaves'], evidence_card=[2])\n",
    "\n",
    "# CPD for BadCropCondition\n",
    "prob_badcropcondition_00, prob_badcropcondition_01 = adjust_probs(0.584653, alpha, beta, total_count)\n",
    "prob_badcropcondition_10, prob_badcropcondition_11 = adjust_probs(0.415347, beta, alpha, total_count)\n",
    "cpd_badcropcondition = TabularCPD(variable='BadCropCondition', variable_card=2,\n",
    "                        values=[[prob_badcropcondition_00, prob_badcropcondition_01],\n",
    "                               [prob_badcropcondition_10, prob_badcropcondition_11]],\n",
    "                        evidence=['BadTreeCondition'], evidence_card=[2])"
   ]
  },
  {
   "cell_type": "code",
   "execution_count": 16,
   "id": "0dbeb03b",
   "metadata": {},
   "outputs": [],
   "source": [
    "# Associating the CPDs with the network\n",
    "model = BayesianModel(model)\n",
    "model.add_cpds(cpd_dr, cpd_df, cpd_lsm, cpd_dt, cpd_btc, cpd_ll, cpd_bcc)"
   ]
  },
  {
   "cell_type": "code",
   "execution_count": 17,
   "id": "42e5df7b",
   "metadata": {},
   "outputs": [
    {
     "name": "stdout",
     "output_type": "stream",
     "text": [
      "[bnlearn] >Computing best DAG using [hc]\n",
      "[bnlearn] >Set scoring type at [bic]\n",
      "[bnlearn] >Set node properties.\n",
      "[bnlearn] >Set edge properties.\n",
      "[bnlearn] >Plot based on Bayesian model\n"
     ]
    },
    {
     "data": {
      "image/png": "[encoded data removed]",
      "text/plain": [
       "<Figure size 1500x1000 with 1 Axes>"
      ]
     },
     "metadata": {},
     "output_type": "display_data"
    }
   ],
   "source": [
    "model = bn.structure_learning.fit(ground_truth_df)\n",
    "G = bn.plot(model)"
   ]
  },
  {
   "cell_type": "markdown",
   "id": "6b224263",
   "metadata": {},
   "source": [
    "###  BIC Scores"
   ]
  },
  {
   "cell_type": "code",
   "execution_count": 18,
   "id": "efaca767",
   "metadata": {},
   "outputs": [],
   "source": [
    "# Define the HillClimbSearch object\n",
    "hc = HillClimbSearch(ground_truth_df)"
   ]
  },
  {
   "cell_type": "code",
   "execution_count": 19,
   "id": "781f7c25",
   "metadata": {},
   "outputs": [
    {
     "data": {
      "application/vnd.jupyter.widget-view+json": {
       "model_id": "ecaeee20211d46d888bebb33fbd3e72d",
       "version_major": 2,
       "version_minor": 0
      },
      "text/plain": [
       "  0%|          | 0/1000000 [00:00<?, ?it/s]"
      ]
     },
     "metadata": {},
     "output_type": "display_data"
    }
   ],
   "source": [
    "# Perform the structure learning with BIC scoring\n",
    "scoring_method = BicScore(ground_truth_df)\n",
    "best_model = hc.estimate(scoring_method)"
   ]
  },
  {
   "cell_type": "code",
   "execution_count": 20,
   "id": "41ac00fb",
   "metadata": {},
   "outputs": [
    {
     "name": "stdout",
     "output_type": "stream",
     "text": [
      "Learned edges:\n",
      "[('LowSoilMoisture', 'DryFarm'), ('DryTree', 'LowSoilMoisture'), ('DryTree', 'SickTree'), ('BadTreeCondition', 'BadCropCondition'), ('BadTreeCondition', 'DryTree'), ('BadTreeCondition', 'SickTree'), ('LoseLeaves', 'BadTreeCondition')]\n"
     ]
    }
   ],
   "source": [
    "# Print the learned structure (edges)\n",
    "print(\"Learned edges:\")\n",
    "print(best_model.edges())"
   ]
  },
  {
   "cell_type": "code",
   "execution_count": 21,
   "id": "2c91b921",
   "metadata": {},
   "outputs": [
    {
     "data": {
      "image/png": "[encoded data removed]",
      "text/plain": [
       "<Figure size 640x480 with 1 Axes>"
      ]
     },
     "metadata": {},
     "output_type": "display_data"
    }
   ],
   "source": [
    "# Create a Directed Graph (DiGraph) to visualize the Bayesian network\n",
    "G = nx.DiGraph()\n",
    "\n",
    "# Add nodes to the graph\n",
    "G.add_nodes_from(best_model.nodes())\n",
    "\n",
    "# Add edges to the graph based on the learned structure\n",
    "G.add_edges_from(best_model.edges())\n",
    "\n",
    "# Plot the Bayesian network\n",
    "pos = nx.spring_layout(G, seed=42)  # You can choose different layout algorithms\n",
    "nx.draw(G, pos, with_labels=True, node_size=200, node_color=\"Skyblue\", font_size=10, font_color=\"black\", font_weight=\"regular\")\n",
    "plt.title(\"Learned Bayesian Network\")\n",
    "plt.show()"
   ]
  },
  {
   "cell_type": "code",
   "execution_count": 22,
   "id": "6e143575",
   "metadata": {},
   "outputs": [],
   "source": [
    "# Perform the structure learning with BIC scoring\n",
    "scoring_method = BicScore(ground_truth_df)\n",
    "bic_scores = []"
   ]
  },
  {
   "cell_type": "code",
   "execution_count": 23,
   "id": "bcf43369",
   "metadata": {},
   "outputs": [],
   "source": [
    "# Create BicScore object\n",
    "bic_score = BicScore(ground_truth_df)"
   ]
  },
  {
   "cell_type": "code",
   "execution_count": 24,
   "id": "48901fec",
   "metadata": {},
   "outputs": [],
   "source": [
    "# Calculate and print BIC score for the given network structure\n",
    "bic_network_score = bic_score.score(best_model)"
   ]
  },
  {
   "cell_type": "code",
   "execution_count": 25,
   "id": "0f24c753",
   "metadata": {},
   "outputs": [
    {
     "data": {
      "application/vnd.jupyter.widget-view+json": {
       "model_id": "27d83800d8a14b3fa5b11efd399a136f",
       "version_major": 2,
       "version_minor": 0
      },
      "text/plain": [
       "  0%|          | 0/1000000 [00:00<?, ?it/s]"
      ]
     },
     "metadata": {},
     "output_type": "display_data"
    },
    {
     "data": {
      "application/vnd.jupyter.widget-view+json": {
       "model_id": "d0099c6e0d04467bbbc71e3b280fa59b",
       "version_major": 2,
       "version_minor": 0
      },
      "text/plain": [
       "  0%|          | 0/1000000 [00:00<?, ?it/s]"
      ]
     },
     "metadata": {},
     "output_type": "display_data"
    },
    {
     "data": {
      "application/vnd.jupyter.widget-view+json": {
       "model_id": "60668dfd0e9e409ea328d960903f7b19",
       "version_major": 2,
       "version_minor": 0
      },
      "text/plain": [
       "  0%|          | 0/1000000 [00:00<?, ?it/s]"
      ]
     },
     "metadata": {},
     "output_type": "display_data"
    },
    {
     "data": {
      "application/vnd.jupyter.widget-view+json": {
       "model_id": "01b882e3ecaf4140a2e1dac69b6b7cfd",
       "version_major": 2,
       "version_minor": 0
      },
      "text/plain": [
       "  0%|          | 0/1000000 [00:00<?, ?it/s]"
      ]
     },
     "metadata": {},
     "output_type": "display_data"
    },
    {
     "data": {
      "application/vnd.jupyter.widget-view+json": {
       "model_id": "1d5b87c4d44a4998a82ec6d010f29a5c",
       "version_major": 2,
       "version_minor": 0
      },
      "text/plain": [
       "  0%|          | 0/1000000 [00:00<?, ?it/s]"
      ]
     },
     "metadata": {},
     "output_type": "display_data"
    },
    {
     "data": {
      "application/vnd.jupyter.widget-view+json": {
       "model_id": "c3f110b0ee4748628e6935d8cb69f875",
       "version_major": 2,
       "version_minor": 0
      },
      "text/plain": [
       "  0%|          | 0/1000000 [00:00<?, ?it/s]"
      ]
     },
     "metadata": {},
     "output_type": "display_data"
    },
    {
     "data": {
      "application/vnd.jupyter.widget-view+json": {
       "model_id": "7b32ef9a621b408b9e9971c2af34e9fa",
       "version_major": 2,
       "version_minor": 0
      },
      "text/plain": [
       "  0%|          | 0/1000000 [00:00<?, ?it/s]"
      ]
     },
     "metadata": {},
     "output_type": "display_data"
    },
    {
     "data": {
      "application/vnd.jupyter.widget-view+json": {
       "model_id": "d4cc57a283a74d2a82ab8f9bfa2fe0d6",
       "version_major": 2,
       "version_minor": 0
      },
      "text/plain": [
       "  0%|          | 0/1000000 [00:00<?, ?it/s]"
      ]
     },
     "metadata": {},
     "output_type": "display_data"
    },
    {
     "data": {
      "application/vnd.jupyter.widget-view+json": {
       "model_id": "2ff2678d6bac481b878cffa2221b9abf",
       "version_major": 2,
       "version_minor": 0
      },
      "text/plain": [
       "  0%|          | 0/1000000 [00:00<?, ?it/s]"
      ]
     },
     "metadata": {},
     "output_type": "display_data"
    },
    {
     "data": {
      "application/vnd.jupyter.widget-view+json": {
       "model_id": "1be5f694d98c4bdfb47fcb5878eea399",
       "version_major": 2,
       "version_minor": 0
      },
      "text/plain": [
       "  0%|          | 0/1000000 [00:00<?, ?it/s]"
      ]
     },
     "metadata": {},
     "output_type": "display_data"
    }
   ],
   "source": [
    "# Number of iterations\n",
    "num_iterations = 10\n",
    "\n",
    "for _ in range(num_iterations):\n",
    "    # Estimate the best model\n",
    "    best_model = hc.estimate(scoring_method)\n",
    "    \n",
    "    # Calculate BIC score for the given network structure\n",
    "    bic_network_score = scoring_method.score(best_model)\n",
    "    bic_scores.append(bic_network_score)"
   ]
  },
  {
   "cell_type": "code",
   "execution_count": 26,
   "id": "d8da34e3",
   "metadata": {},
   "outputs": [],
   "source": [
    "# Calculate mean and standard deviation of BIC scores\n",
    "bic_mean = np.mean(bic_scores)\n",
    "bic_std_dev = np.std(bic_scores)"
   ]
  },
  {
   "cell_type": "code",
   "execution_count": 27,
   "id": "0fc3d477",
   "metadata": {},
   "outputs": [
    {
     "name": "stdout",
     "output_type": "stream",
     "text": [
      "Mean BIC Score: -19490.30298696863\n",
      "Standard Deviation of BIC Scores: 0.0\n"
     ]
    }
   ],
   "source": [
    "print(f\"Mean BIC Score: {bic_mean}\")\n",
    "print(f\"Standard Deviation of BIC Scores: {bic_std_dev}\")"
   ]
  },
  {
   "cell_type": "code",
   "execution_count": 28,
   "id": "d23b7dd3",
   "metadata": {
    "scrolled": true
   },
   "outputs": [
    {
     "name": "stdout",
     "output_type": "stream",
     "text": [
      "[bnlearn] >Parameter learning> Computing parameters using [bayes]\n",
      "[bnlearn] >Converting [<class 'pgmpy.base.DAG.DAG'>] to BayesianNetwork model.\n",
      "[bnlearn] >Converting adjmat to BayesianNetwork.\n",
      "[bnlearn] >CPD of LowSoilMoisture:\n",
      "+--------------------+---------------------+---------------------+\n",
      "| DryTree            | DryTree(0)          | DryTree(1)          |\n",
      "+--------------------+---------------------+---------------------+\n",
      "| LowSoilMoisture(0) | 0.7766056469128142  | 0.30176449405833633 |\n",
      "+--------------------+---------------------+---------------------+\n",
      "| LowSoilMoisture(1) | 0.22339435308718586 | 0.6982355059416636  |\n",
      "+--------------------+---------------------+---------------------+\n",
      "[bnlearn] >CPD of DryFarm:\n",
      "+-----------------+---------------------+--------------------+\n",
      "| LowSoilMoisture | LowSoilMoisture(0)  | LowSoilMoisture(1) |\n",
      "+-----------------+---------------------+--------------------+\n",
      "| DryFarm(0)      | 0.7551631248129302  | 0.5317788642346747 |\n",
      "+-----------------+---------------------+--------------------+\n",
      "| DryFarm(1)      | 0.24483687518706973 | 0.4682211357653253 |\n",
      "+-----------------+---------------------+--------------------+\n",
      "[bnlearn] >CPD of DryTree:\n",
      "+------------------+---------------------+---------------------+\n",
      "| BadTreeCondition | BadTreeCondition(0) | BadTreeCondition(1) |\n",
      "+------------------+---------------------+---------------------+\n",
      "| DryTree(0)       | 0.5805717176827726  | 0.45334636052760136 |\n",
      "+------------------+---------------------+---------------------+\n",
      "| DryTree(1)       | 0.4194282823172274  | 0.5466536394723986  |\n",
      "+------------------+---------------------+---------------------+\n",
      "[bnlearn] >CPD of SickTree:\n",
      "+------------------+-----+---------------------+\n",
      "| BadTreeCondition | ... | BadTreeCondition(1) |\n",
      "+------------------+-----+---------------------+\n",
      "| DryTree          | ... | DryTree(1)          |\n",
      "+------------------+-----+---------------------+\n",
      "| SickTree(0)      | ... | 0.7220732797140303  |\n",
      "+------------------+-----+---------------------+\n",
      "| SickTree(1)      | ... | 0.2779267202859696  |\n",
      "+------------------+-----+---------------------+\n",
      "[bnlearn] >CPD of BadTreeCondition:\n",
      "+---------------------+---------------------+--------------------+\n",
      "| LoseLeaves          | LoseLeaves(0)       | LoseLeaves(1)      |\n",
      "+---------------------+---------------------+--------------------+\n",
      "| BadTreeCondition(0) | 0.8415814210671827  | 0.3814519513218632 |\n",
      "+---------------------+---------------------+--------------------+\n",
      "| BadTreeCondition(1) | 0.15841857893281724 | 0.6185480486781368 |\n",
      "+---------------------+---------------------+--------------------+\n",
      "[bnlearn] >CPD of BadCropCondition:\n",
      "+---------------------+---------------------+---------------------+\n",
      "| BadTreeCondition    | BadTreeCondition(0) | BadTreeCondition(1) |\n",
      "+---------------------+---------------------+---------------------+\n",
      "| BadCropCondition(0) | 0.7133822413356944  | 0.32633121641426477 |\n",
      "+---------------------+---------------------+---------------------+\n",
      "| BadCropCondition(1) | 0.2866177586643056  | 0.6736687835857352  |\n",
      "+---------------------+---------------------+---------------------+\n",
      "[bnlearn] >CPD of LoseLeaves:\n",
      "+---------------+----------+\n",
      "| LoseLeaves(0) | 0.602833 |\n",
      "+---------------+----------+\n",
      "| LoseLeaves(1) | 0.397167 |\n",
      "+---------------+----------+\n"
     ]
    }
   ],
   "source": [
    "model_update = bn.parameter_learning.fit(model, ground_truth_df, methodtype='bayes')"
   ]
  },
  {
   "cell_type": "markdown",
   "id": "df150f05",
   "metadata": {},
   "source": [
    "### Validation KL Divergence "
   ]
  },
  {
   "cell_type": "markdown",
   "id": "cc78ed81",
   "metadata": {},
   "source": [
    "### BadTreeCondition & BadCropCondition"
   ]
  },
  {
   "cell_type": "code",
   "execution_count": 29,
   "id": "a6875317",
   "metadata": {},
   "outputs": [],
   "source": [
    "from scipy.special import kl_div"
   ]
  },
  {
   "cell_type": "code",
   "execution_count": 30,
   "id": "0e7c83d5",
   "metadata": {},
   "outputs": [],
   "source": [
    "# Generate 5000 samples from the ground truth model\n",
    "ground_truth_samples = ground_truth_df.sample(n=5000, random_state=1)\n",
    "ground_truth_samples_df = pd.DataFrame(ground_truth_samples)"
   ]
  },
  {
   "cell_type": "code",
   "execution_count": 31,
   "id": "df7d2688",
   "metadata": {},
   "outputs": [],
   "source": [
    "# Create empty lists to store KL Divergence values\n",
    "kl_divergence_list1 = []\n",
    "kl_divergence_list2 = []"
   ]
  },
  {
   "cell_type": "code",
   "execution_count": 32,
   "id": "6b7c0340",
   "metadata": {},
   "outputs": [],
   "source": [
    "# Number of iterations\n",
    "num_iterations = 10"
   ]
  },
  {
   "cell_type": "code",
   "execution_count": 33,
   "id": "54a2465f",
   "metadata": {},
   "outputs": [],
   "source": [
    "# Number of iterations\n",
    "num_iterations = 10\n",
    "sample_size = 5000  # Sample size should not exceed the population size\n",
    "\n",
    "for _ in range(num_iterations):\n",
    "    # Take n samples from the CPD distribution\n",
    "    data_df = bn.sampling(model_update, n=sample_size, methodtype='bayes')\n",
    "    \n",
    "    # Generate samples from the ground truth model\n",
    "    ground_truth_samples = ground_truth_df.sample(n=sample_size, random_state=1)\n",
    "    ground_truth_samples_df = pd.DataFrame(ground_truth_samples)\n",
    "    \n",
    "    # Perform KL divergence analysis for the full conditional distribution between the baseline model and the ground truth model\n",
    "    kl_divergence1 = kl_div(ground_truth_samples_df['BadTreeCondition'].value_counts(normalize=True),\n",
    "                           data_df['BadTreeCondition'].value_counts(normalize=True))\n",
    "    \n",
    "    kl_divergence_list1.append(kl_divergence1)\n",
    "    \n",
    "    # Perform KL divergence analysis for another distribution (you can add more as needed)\n",
    "    kl_divergence2 = kl_div(ground_truth_samples_df['BadCropCondition'].value_counts(normalize=True),\n",
    "                           data_df['BadCropCondition'].value_counts(normalize=True))\n",
    "    \n",
    "    kl_divergence_list2.append(kl_divergence2)"
   ]
  },
  {
   "cell_type": "code",
   "execution_count": 34,
   "id": "881731a8",
   "metadata": {},
   "outputs": [],
   "source": [
    "# Calculate mean and standard deviation of KL Divergence values\n",
    "kl_divergence_mean1 = np.mean(kl_divergence_list1)\n",
    "kl_divergence_std_dev1 = np.std(kl_divergence_list1)\n",
    "\n",
    "kl_divergence_mean2 = np.mean(kl_divergence_list2)\n",
    "kl_divergence_std_dev2 = np.std(kl_divergence_list2)"
   ]
  },
  {
   "cell_type": "code",
   "execution_count": 35,
   "id": "74627b29",
   "metadata": {},
   "outputs": [
    {
     "name": "stdout",
     "output_type": "stream",
     "text": [
      "Mean KL Divergence 1: 0.0010366276049795064\n",
      "Standard Deviation KL Divergence 1: 0.000539507025195717\n",
      "Mean KL Divergence 2: 0.00022990962890764854\n",
      "Standard Deviation KL Divergence 2: 0.00021750521436916294\n"
     ]
    }
   ],
   "source": [
    "print(f\"Mean KL Divergence 1: {kl_divergence_mean1}\")\n",
    "print(f\"Standard Deviation KL Divergence 1: {kl_divergence_std_dev1}\")\n",
    "\n",
    "print(f\"Mean KL Divergence 2: {kl_divergence_mean2}\")\n",
    "print(f\"Standard Deviation KL Divergence 2: {kl_divergence_std_dev2}\")"
   ]
  },
  {
   "cell_type": "markdown",
   "id": "6fd5c77d",
   "metadata": {},
   "source": [
    "### BIC Score Validation Data"
   ]
  },
  {
   "cell_type": "code",
   "execution_count": 47,
   "id": "5ba451a2",
   "metadata": {},
   "outputs": [
    {
     "data": {
      "text/html": [
       "<div>\n",
       "<style scoped>\n",
       "    .dataframe tbody tr th:only-of-type {\n",
       "        vertical-align: middle;\n",
       "    }\n",
       "\n",
       "    .dataframe tbody tr th {\n",
       "        vertical-align: top;\n",
       "    }\n",
       "\n",
       "    .dataframe thead th {\n",
       "        text-align: right;\n",
       "    }\n",
       "</style>\n",
       "<table border=\"1\" class=\"dataframe\">\n",
       "  <thead>\n",
       "    <tr style=\"text-align: right;\">\n",
       "      <th></th>\n",
       "      <th>LatVar1</th>\n",
       "      <th>Drought</th>\n",
       "      <th>LatVar2</th>\n",
       "      <th>DryFarm</th>\n",
       "      <th>LatVar3</th>\n",
       "      <th>LowSoilMoisture</th>\n",
       "      <th>LatVar4</th>\n",
       "      <th>DryTree</th>\n",
       "      <th>BadTreeCondition</th>\n",
       "      <th>SickTree</th>\n",
       "      <th>BadCropCondition</th>\n",
       "      <th>LatVar5</th>\n",
       "      <th>LoseLeaves</th>\n",
       "      <th>LatVar6</th>\n",
       "    </tr>\n",
       "  </thead>\n",
       "  <tbody>\n",
       "    <tr>\n",
       "      <th>202827</th>\n",
       "      <td>1</td>\n",
       "      <td>0</td>\n",
       "      <td>1</td>\n",
       "      <td>1</td>\n",
       "      <td>1</td>\n",
       "      <td>0</td>\n",
       "      <td>0</td>\n",
       "      <td>0</td>\n",
       "      <td>0</td>\n",
       "      <td>0</td>\n",
       "      <td>0</td>\n",
       "      <td>0</td>\n",
       "      <td>0</td>\n",
       "      <td>0</td>\n",
       "    </tr>\n",
       "    <tr>\n",
       "      <th>151507</th>\n",
       "      <td>0</td>\n",
       "      <td>1</td>\n",
       "      <td>1</td>\n",
       "      <td>1</td>\n",
       "      <td>0</td>\n",
       "      <td>0</td>\n",
       "      <td>0</td>\n",
       "      <td>0</td>\n",
       "      <td>1</td>\n",
       "      <td>1</td>\n",
       "      <td>1</td>\n",
       "      <td>1</td>\n",
       "      <td>1</td>\n",
       "      <td>1</td>\n",
       "    </tr>\n",
       "    <tr>\n",
       "      <th>163248</th>\n",
       "      <td>0</td>\n",
       "      <td>0</td>\n",
       "      <td>0</td>\n",
       "      <td>0</td>\n",
       "      <td>1</td>\n",
       "      <td>1</td>\n",
       "      <td>0</td>\n",
       "      <td>1</td>\n",
       "      <td>0</td>\n",
       "      <td>0</td>\n",
       "      <td>1</td>\n",
       "      <td>1</td>\n",
       "      <td>0</td>\n",
       "      <td>0</td>\n",
       "    </tr>\n",
       "    <tr>\n",
       "      <th>157083</th>\n",
       "      <td>0</td>\n",
       "      <td>1</td>\n",
       "      <td>1</td>\n",
       "      <td>1</td>\n",
       "      <td>1</td>\n",
       "      <td>0</td>\n",
       "      <td>1</td>\n",
       "      <td>0</td>\n",
       "      <td>0</td>\n",
       "      <td>0</td>\n",
       "      <td>0</td>\n",
       "      <td>1</td>\n",
       "      <td>1</td>\n",
       "      <td>1</td>\n",
       "    </tr>\n",
       "    <tr>\n",
       "      <th>69269</th>\n",
       "      <td>1</td>\n",
       "      <td>0</td>\n",
       "      <td>1</td>\n",
       "      <td>1</td>\n",
       "      <td>1</td>\n",
       "      <td>1</td>\n",
       "      <td>0</td>\n",
       "      <td>1</td>\n",
       "      <td>1</td>\n",
       "      <td>0</td>\n",
       "      <td>1</td>\n",
       "      <td>1</td>\n",
       "      <td>1</td>\n",
       "      <td>0</td>\n",
       "    </tr>\n",
       "  </tbody>\n",
       "</table>\n",
       "</div>"
      ],
      "text/plain": [
       "        LatVar1  Drought  LatVar2  DryFarm  LatVar3  LowSoilMoisture  LatVar4  \\\n",
       "202827        1        0        1        1        1                0        0   \n",
       "151507        0        1        1        1        0                0        0   \n",
       "163248        0        0        0        0        1                1        0   \n",
       "157083        0        1        1        1        1                0        1   \n",
       "69269         1        0        1        1        1                1        0   \n",
       "\n",
       "        DryTree  BadTreeCondition  SickTree  BadCropCondition  LatVar5  \\\n",
       "202827        0                 0         0                 0        0   \n",
       "151507        0                 1         1                 1        1   \n",
       "163248        1                 0         0                 1        1   \n",
       "157083        0                 0         0                 0        1   \n",
       "69269         1                 1         0                 1        1   \n",
       "\n",
       "        LoseLeaves  LatVar6  \n",
       "202827           0        0  \n",
       "151507           1        1  \n",
       "163248           0        0  \n",
       "157083           1        1  \n",
       "69269            1        0  "
      ]
     },
     "execution_count": 47,
     "metadata": {},
     "output_type": "execute_result"
    }
   ],
   "source": [
    "# Read the CSV file and skip the \"Unnamed\" column\n",
    "ground_truth_df = pd.read_csv(\"GT72000_val_data.csv\", index_col=0)\n",
    "ground_truth_df.head()"
   ]
  },
  {
   "cell_type": "code",
   "execution_count": 36,
   "id": "c8be9fde",
   "metadata": {},
   "outputs": [
    {
     "name": "stdout",
     "output_type": "stream",
     "text": [
      "[bnlearn] >No changes made to existing bayes DAG.\n"
     ]
    }
   ],
   "source": [
    "# Defining the model structure by passing a list of edges\n",
    "model_update = BayesianModel([('LowSoilMoisture', 'DryFarm'), ('DryTree', 'LowSoilMoisture'), ('DryTree', 'SickTree'), ('BadTreeCondition', 'BadCropCondition'), ('BadTreeCondition', 'DryTree'), ('BadTreeCondition', 'SickTree'), ('LoseLeaves', 'BadTreeCondition')])\n",
    "DAG =  bn.make_DAG(model_update)"
   ]
  },
  {
   "cell_type": "code",
   "execution_count": 37,
   "id": "2f2212f8",
   "metadata": {},
   "outputs": [],
   "source": [
    "# Use Bayesian Parameter Estimation to refine the parameter estimates\n",
    "# Set the number of samples and Dirichlet hyperparameters\n",
    "n = 5000"
   ]
  },
  {
   "cell_type": "code",
   "execution_count": 38,
   "id": "d8939617",
   "metadata": {},
   "outputs": [
    {
     "data": {
      "application/vnd.jupyter.widget-view+json": {
       "model_id": "6f50d00c7aa14400b331890e3c565cb0",
       "version_major": 2,
       "version_minor": 0
      },
      "text/plain": [
       "  0%|          | 0/8 [00:00<?, ?it/s]"
      ]
     },
     "metadata": {},
     "output_type": "display_data"
    }
   ],
   "source": [
    "# Generate 5000 samples from the model using forward sampling\n",
    "samples = sampler.forward_sample(size = 5000)"
   ]
  },
  {
   "cell_type": "code",
   "execution_count": 39,
   "id": "5ff1fbe4",
   "metadata": {},
   "outputs": [],
   "source": [
    "# Convert the samples to DataFrame format\n",
    "samples_df = pd.DataFrame(samples)"
   ]
  },
  {
   "cell_type": "code",
   "execution_count": 40,
   "id": "653f8001",
   "metadata": {},
   "outputs": [
    {
     "name": "stdout",
     "output_type": "stream",
     "text": [
      "      Drought  DryFarm  LowSoilMoisture  DryTree  BadTreeCondition  SickTree  \\\n",
      "0           1        1                0        1                 0         0   \n",
      "1           0        0                0        0                 0         1   \n",
      "2           0        1                1        0                 0         0   \n",
      "3           0        0                0        0                 1         0   \n",
      "4           0        0                0        0                 0         0   \n",
      "...       ...      ...              ...      ...               ...       ...   \n",
      "4995        0        0                0        0                 0         0   \n",
      "4996        0        0                0        0                 1         0   \n",
      "4997        0        0                0        0                 0         0   \n",
      "4998        0        0                0        0                 0         0   \n",
      "4999        0        1                1        1                 0         0   \n",
      "\n",
      "      BadCropCondition  LoseLeaves  \n",
      "0                    0           0  \n",
      "1                    1           1  \n",
      "2                    1           1  \n",
      "3                    0           1  \n",
      "4                    0           0  \n",
      "...                ...         ...  \n",
      "4995                 0           1  \n",
      "4996                 0           1  \n",
      "4997                 0           0  \n",
      "4998                 1           1  \n",
      "4999                 1           0  \n",
      "\n",
      "[5000 rows x 8 columns]\n"
     ]
    }
   ],
   "source": [
    "print(samples_df)"
   ]
  },
  {
   "cell_type": "code",
   "execution_count": 41,
   "id": "30199a27",
   "metadata": {},
   "outputs": [],
   "source": [
    "# Write the DataFrame to a CSV file\n",
    "df.to_csv(\"GTGN5000_validation_data.csv\", index=False)"
   ]
  },
  {
   "cell_type": "code",
   "execution_count": 42,
   "id": "b29e30ea",
   "metadata": {},
   "outputs": [
    {
     "data": {
      "text/html": [
       "<div>\n",
       "<style scoped>\n",
       "    .dataframe tbody tr th:only-of-type {\n",
       "        vertical-align: middle;\n",
       "    }\n",
       "\n",
       "    .dataframe tbody tr th {\n",
       "        vertical-align: top;\n",
       "    }\n",
       "\n",
       "    .dataframe thead th {\n",
       "        text-align: right;\n",
       "    }\n",
       "</style>\n",
       "<table border=\"1\" class=\"dataframe\">\n",
       "  <thead>\n",
       "    <tr style=\"text-align: right;\">\n",
       "      <th></th>\n",
       "      <th>DryFarm</th>\n",
       "      <th>LowSoilMoisture</th>\n",
       "      <th>DryTree</th>\n",
       "      <th>BadTreeCondition</th>\n",
       "      <th>SickTree</th>\n",
       "      <th>BadCropCondition</th>\n",
       "      <th>LoseLeaves</th>\n",
       "    </tr>\n",
       "    <tr>\n",
       "      <th>Drought</th>\n",
       "      <th></th>\n",
       "      <th></th>\n",
       "      <th></th>\n",
       "      <th></th>\n",
       "      <th></th>\n",
       "      <th></th>\n",
       "      <th></th>\n",
       "    </tr>\n",
       "  </thead>\n",
       "  <tbody>\n",
       "    <tr>\n",
       "      <th>0</th>\n",
       "      <td>1</td>\n",
       "      <td>1</td>\n",
       "      <td>0</td>\n",
       "      <td>1</td>\n",
       "      <td>0</td>\n",
       "      <td>1</td>\n",
       "      <td>1</td>\n",
       "    </tr>\n",
       "    <tr>\n",
       "      <th>0</th>\n",
       "      <td>0</td>\n",
       "      <td>1</td>\n",
       "      <td>1</td>\n",
       "      <td>1</td>\n",
       "      <td>0</td>\n",
       "      <td>1</td>\n",
       "      <td>1</td>\n",
       "    </tr>\n",
       "    <tr>\n",
       "      <th>0</th>\n",
       "      <td>1</td>\n",
       "      <td>0</td>\n",
       "      <td>0</td>\n",
       "      <td>0</td>\n",
       "      <td>0</td>\n",
       "      <td>0</td>\n",
       "      <td>0</td>\n",
       "    </tr>\n",
       "    <tr>\n",
       "      <th>0</th>\n",
       "      <td>0</td>\n",
       "      <td>0</td>\n",
       "      <td>0</td>\n",
       "      <td>1</td>\n",
       "      <td>0</td>\n",
       "      <td>0</td>\n",
       "      <td>0</td>\n",
       "    </tr>\n",
       "    <tr>\n",
       "      <th>0</th>\n",
       "      <td>0</td>\n",
       "      <td>0</td>\n",
       "      <td>0</td>\n",
       "      <td>0</td>\n",
       "      <td>0</td>\n",
       "      <td>0</td>\n",
       "      <td>1</td>\n",
       "    </tr>\n",
       "  </tbody>\n",
       "</table>\n",
       "</div>"
      ],
      "text/plain": [
       "         DryFarm  LowSoilMoisture  DryTree  BadTreeCondition  SickTree  \\\n",
       "Drought                                                                  \n",
       "0              1                1        0                 1         0   \n",
       "0              0                1        1                 1         0   \n",
       "0              1                0        0                 0         0   \n",
       "0              0                0        0                 1         0   \n",
       "0              0                0        0                 0         0   \n",
       "\n",
       "         BadCropCondition  LoseLeaves  \n",
       "Drought                                \n",
       "0                       1           1  \n",
       "0                       1           1  \n",
       "0                       0           0  \n",
       "0                       0           0  \n",
       "0                       0           1  "
      ]
     },
     "execution_count": 42,
     "metadata": {},
     "output_type": "execute_result"
    }
   ],
   "source": [
    "# Read the CSV file and skip the \"Unnamed\" column\n",
    "ground_truth_df = pd.read_csv(\"GTGN5000_validation_data.csv\", index_col=0)\n",
    "ground_truth_df.head()"
   ]
  },
  {
   "cell_type": "code",
   "execution_count": 43,
   "id": "e0d4aede",
   "metadata": {},
   "outputs": [
    {
     "name": "stdout",
     "output_type": "stream",
     "text": [
      "[bnlearn] >Computing best DAG using [hc]\n",
      "[bnlearn] >Set scoring type at [bic]\n",
      "[bnlearn] >Set node properties.\n",
      "[bnlearn] >Set edge properties.\n",
      "[bnlearn] >Plot based on Bayesian model\n"
     ]
    },
    {
     "data": {
      "image/png": "[encoded data removed]",
      "text/plain": [
       "<Figure size 1500x1000 with 1 Axes>"
      ]
     },
     "metadata": {},
     "output_type": "display_data"
    }
   ],
   "source": [
    "model = bn.structure_learning.fit(ground_truth_df)\n",
    "G = bn.plot(model)"
   ]
  },
  {
   "cell_type": "code",
   "execution_count": 44,
   "id": "b116027d",
   "metadata": {},
   "outputs": [
    {
     "name": "stdout",
     "output_type": "stream",
     "text": [
      "Learned edges:\n",
      "[('LowSoilMoisture', 'DryFarm'), ('DryTree', 'LowSoilMoisture'), ('DryTree', 'SickTree'), ('BadTreeCondition', 'BadCropCondition'), ('BadTreeCondition', 'DryTree'), ('BadTreeCondition', 'SickTree'), ('LoseLeaves', 'BadTreeCondition')]\n"
     ]
    }
   ],
   "source": [
    "# Print the learned structure (edges)\n",
    "print(\"Learned edges:\")\n",
    "print(best_model.edges())"
   ]
  },
  {
   "cell_type": "code",
   "execution_count": 45,
   "id": "4eefd735",
   "metadata": {},
   "outputs": [
    {
     "data": {
      "image/png": "[encoded data removed]",
      "text/plain": [
       "<Figure size 640x480 with 1 Axes>"
      ]
     },
     "metadata": {},
     "output_type": "display_data"
    }
   ],
   "source": [
    "# Create a Directed Graph (DiGraph) to visualize the Bayesian network\n",
    "G = nx.DiGraph()\n",
    "\n",
    "# Add nodes to the graph\n",
    "G.add_nodes_from(best_model.nodes())\n",
    "\n",
    "# Add edges to the graph based on the learned structure\n",
    "G.add_edges_from(best_model.edges())\n",
    "\n",
    "# Plot the Bayesian network\n",
    "pos = nx.spring_layout(G, seed=42)  # You can choose different layout algorithms\n",
    "nx.draw(G, pos, with_labels=True, node_size=200, node_color=\"Skyblue\", font_size=10, font_color=\"black\", font_weight=\"regular\")\n",
    "plt.title(\"Learned Bayesian Network\")\n",
    "plt.show()"
   ]
  },
  {
   "cell_type": "markdown",
   "id": "9498d768",
   "metadata": {},
   "source": [
    "###  BIC Scores"
   ]
  },
  {
   "cell_type": "code",
   "execution_count": 46,
   "id": "785420d8",
   "metadata": {},
   "outputs": [],
   "source": [
    "# Define the HillClimbSearch object\n",
    "hc = HillClimbSearch(data_df)"
   ]
  },
  {
   "cell_type": "code",
   "execution_count": 47,
   "id": "bdd0855c",
   "metadata": {},
   "outputs": [],
   "source": [
    "# Perform the structure learning with BIC scoring\n",
    "scoring_method = BicScore(data_df)\n",
    "bic_scores = []"
   ]
  },
  {
   "cell_type": "code",
   "execution_count": 48,
   "id": "1a45b50e",
   "metadata": {},
   "outputs": [
    {
     "data": {
      "application/vnd.jupyter.widget-view+json": {
       "model_id": "21acbf8c48544eb4b2c1b2c2c7771ae5",
       "version_major": 2,
       "version_minor": 0
      },
      "text/plain": [
       "  0%|          | 0/1000000 [00:00<?, ?it/s]"
      ]
     },
     "metadata": {},
     "output_type": "display_data"
    }
   ],
   "source": [
    "# Perform the structure learning with BIC scoring\n",
    "scoring_method = BicScore(data_df)\n",
    "best_model = hc.estimate(scoring_method)"
   ]
  },
  {
   "cell_type": "code",
   "execution_count": 49,
   "id": "033a65af",
   "metadata": {},
   "outputs": [
    {
     "data": {
      "application/vnd.jupyter.widget-view+json": {
       "model_id": "00a00a22f37745e394007f5e5193205f",
       "version_major": 2,
       "version_minor": 0
      },
      "text/plain": [
       "  0%|          | 0/1000000 [00:00<?, ?it/s]"
      ]
     },
     "metadata": {},
     "output_type": "display_data"
    },
    {
     "data": {
      "application/vnd.jupyter.widget-view+json": {
       "model_id": "1fbff28724524a1aa191ef9be8bf2f5a",
       "version_major": 2,
       "version_minor": 0
      },
      "text/plain": [
       "  0%|          | 0/1000000 [00:00<?, ?it/s]"
      ]
     },
     "metadata": {},
     "output_type": "display_data"
    },
    {
     "data": {
      "application/vnd.jupyter.widget-view+json": {
       "model_id": "f0c2429b173941da9c1f8958515ad0e9",
       "version_major": 2,
       "version_minor": 0
      },
      "text/plain": [
       "  0%|          | 0/1000000 [00:00<?, ?it/s]"
      ]
     },
     "metadata": {},
     "output_type": "display_data"
    },
    {
     "data": {
      "application/vnd.jupyter.widget-view+json": {
       "model_id": "9c4be8e30043465cadcbdc13005b8b54",
       "version_major": 2,
       "version_minor": 0
      },
      "text/plain": [
       "  0%|          | 0/1000000 [00:00<?, ?it/s]"
      ]
     },
     "metadata": {},
     "output_type": "display_data"
    },
    {
     "data": {
      "application/vnd.jupyter.widget-view+json": {
       "model_id": "e3d5641a216f458f8f84d437725184bb",
       "version_major": 2,
       "version_minor": 0
      },
      "text/plain": [
       "  0%|          | 0/1000000 [00:00<?, ?it/s]"
      ]
     },
     "metadata": {},
     "output_type": "display_data"
    },
    {
     "data": {
      "application/vnd.jupyter.widget-view+json": {
       "model_id": "e99a0adcd6fb4bc48381a910e93e748f",
       "version_major": 2,
       "version_minor": 0
      },
      "text/plain": [
       "  0%|          | 0/1000000 [00:00<?, ?it/s]"
      ]
     },
     "metadata": {},
     "output_type": "display_data"
    },
    {
     "data": {
      "application/vnd.jupyter.widget-view+json": {
       "model_id": "1b993a989fdd4246a5c9f16844edb15f",
       "version_major": 2,
       "version_minor": 0
      },
      "text/plain": [
       "  0%|          | 0/1000000 [00:00<?, ?it/s]"
      ]
     },
     "metadata": {},
     "output_type": "display_data"
    },
    {
     "data": {
      "application/vnd.jupyter.widget-view+json": {
       "model_id": "dd39a1e5d42d415ebcb3198f3432cb98",
       "version_major": 2,
       "version_minor": 0
      },
      "text/plain": [
       "  0%|          | 0/1000000 [00:00<?, ?it/s]"
      ]
     },
     "metadata": {},
     "output_type": "display_data"
    },
    {
     "data": {
      "application/vnd.jupyter.widget-view+json": {
       "model_id": "5a72c386f8ff4cc797c80442a9bbe88b",
       "version_major": 2,
       "version_minor": 0
      },
      "text/plain": [
       "  0%|          | 0/1000000 [00:00<?, ?it/s]"
      ]
     },
     "metadata": {},
     "output_type": "display_data"
    },
    {
     "data": {
      "application/vnd.jupyter.widget-view+json": {
       "model_id": "adebc97c59ae4704aee8475952fc456e",
       "version_major": 2,
       "version_minor": 0
      },
      "text/plain": [
       "  0%|          | 0/1000000 [00:00<?, ?it/s]"
      ]
     },
     "metadata": {},
     "output_type": "display_data"
    }
   ],
   "source": [
    "# Number of iterations\n",
    "num_iterations = 10\n",
    "\n",
    "for _ in range(num_iterations):\n",
    "    # Estimate the best model\n",
    "    best_model = hc.estimate(scoring_method)\n",
    "    \n",
    "    # Calculate BIC score for the given network structure\n",
    "    bic_network_score = scoring_method.score(best_model)\n",
    "    bic_scores.append(bic_network_score)"
   ]
  },
  {
   "cell_type": "code",
   "execution_count": 50,
   "id": "d41747e6",
   "metadata": {},
   "outputs": [
    {
     "name": "stdout",
     "output_type": "stream",
     "text": [
      "Mean BIC Score: -19490.30298696863\n",
      "Standard Deviation of BIC Scores: 0.0\n"
     ]
    }
   ],
   "source": [
    "print(f\"Mean BIC Score: {bic_mean}\")\n",
    "print(f\"Standard Deviation of BIC Scores: {bic_std_dev}\")"
   ]
  },
  {
   "cell_type": "code",
   "execution_count": 51,
   "id": "09c7e622",
   "metadata": {},
   "outputs": [
    {
     "name": "stdout",
     "output_type": "stream",
     "text": [
      "[bnlearn] >Parameter learning> Computing parameters using [bayes]\n",
      "[bnlearn] >Converting [<class 'pgmpy.base.DAG.DAG'>] to BayesianNetwork model.\n",
      "[bnlearn] >Converting adjmat to BayesianNetwork.\n",
      "[bnlearn] >CPD of LowSoilMoisture:\n",
      "+--------------------+---------------------+---------------------+\n",
      "| DryTree            | DryTree(0)          | DryTree(1)          |\n",
      "+--------------------+---------------------+---------------------+\n",
      "| LowSoilMoisture(0) | 0.7766056469128142  | 0.30176449405833633 |\n",
      "+--------------------+---------------------+---------------------+\n",
      "| LowSoilMoisture(1) | 0.22339435308718586 | 0.6982355059416636  |\n",
      "+--------------------+---------------------+---------------------+\n",
      "[bnlearn] >CPD of DryFarm:\n",
      "+-----------------+---------------------+--------------------+\n",
      "| LowSoilMoisture | LowSoilMoisture(0)  | LowSoilMoisture(1) |\n",
      "+-----------------+---------------------+--------------------+\n",
      "| DryFarm(0)      | 0.7551631248129302  | 0.5317788642346747 |\n",
      "+-----------------+---------------------+--------------------+\n",
      "| DryFarm(1)      | 0.24483687518706973 | 0.4682211357653253 |\n",
      "+-----------------+---------------------+--------------------+\n",
      "[bnlearn] >CPD of DryTree:\n",
      "+------------------+---------------------+---------------------+\n",
      "| BadTreeCondition | BadTreeCondition(0) | BadTreeCondition(1) |\n",
      "+------------------+---------------------+---------------------+\n",
      "| DryTree(0)       | 0.5805717176827726  | 0.45334636052760136 |\n",
      "+------------------+---------------------+---------------------+\n",
      "| DryTree(1)       | 0.4194282823172274  | 0.5466536394723986  |\n",
      "+------------------+---------------------+---------------------+\n",
      "[bnlearn] >CPD of SickTree:\n",
      "+------------------+-----+---------------------+\n",
      "| BadTreeCondition | ... | BadTreeCondition(1) |\n",
      "+------------------+-----+---------------------+\n",
      "| DryTree          | ... | DryTree(1)          |\n",
      "+------------------+-----+---------------------+\n",
      "| SickTree(0)      | ... | 0.7220732797140303  |\n",
      "+------------------+-----+---------------------+\n",
      "| SickTree(1)      | ... | 0.2779267202859696  |\n",
      "+------------------+-----+---------------------+\n",
      "[bnlearn] >CPD of BadTreeCondition:\n",
      "+---------------------+---------------------+--------------------+\n",
      "| LoseLeaves          | LoseLeaves(0)       | LoseLeaves(1)      |\n",
      "+---------------------+---------------------+--------------------+\n",
      "| BadTreeCondition(0) | 0.8415814210671827  | 0.3814519513218632 |\n",
      "+---------------------+---------------------+--------------------+\n",
      "| BadTreeCondition(1) | 0.15841857893281724 | 0.6185480486781368 |\n",
      "+---------------------+---------------------+--------------------+\n",
      "[bnlearn] >CPD of BadCropCondition:\n",
      "+---------------------+---------------------+---------------------+\n",
      "| BadTreeCondition    | BadTreeCondition(0) | BadTreeCondition(1) |\n",
      "+---------------------+---------------------+---------------------+\n",
      "| BadCropCondition(0) | 0.7133822413356944  | 0.32633121641426477 |\n",
      "+---------------------+---------------------+---------------------+\n",
      "| BadCropCondition(1) | 0.2866177586643056  | 0.6736687835857352  |\n",
      "+---------------------+---------------------+---------------------+\n",
      "[bnlearn] >CPD of LoseLeaves:\n",
      "+---------------+----------+\n",
      "| LoseLeaves(0) | 0.602833 |\n",
      "+---------------+----------+\n",
      "| LoseLeaves(1) | 0.397167 |\n",
      "+---------------+----------+\n"
     ]
    }
   ],
   "source": [
    "model_update = bn.parameter_learning.fit(model, ground_truth_df, methodtype='bayes')"
   ]
  },
  {
   "cell_type": "markdown",
   "id": "5e8cc5c6",
   "metadata": {},
   "source": [
    "### Validation KL Divergence 5000"
   ]
  },
  {
   "cell_type": "markdown",
   "id": "d0911ca0",
   "metadata": {},
   "source": [
    "### BadTreeCondition & BadCropCondition"
   ]
  },
  {
   "cell_type": "code",
   "execution_count": 52,
   "id": "86ade902",
   "metadata": {},
   "outputs": [],
   "source": [
    "from scipy.special import kl_div"
   ]
  },
  {
   "cell_type": "code",
   "execution_count": 53,
   "id": "793bf350",
   "metadata": {},
   "outputs": [],
   "source": [
    "# KL Divergence\n",
    "# Generate 5000 samples from the ground truth model\n",
    "ground_truth_samples = data_df.sample(n=5000, random_state=1)\n",
    "ground_truth_samples_df = pd.DataFrame(ground_truth_samples)"
   ]
  },
  {
   "cell_type": "code",
   "execution_count": 54,
   "id": "adcdaeb9",
   "metadata": {},
   "outputs": [],
   "source": [
    "# Create empty lists to store KL Divergence values\n",
    "kl_divergence_list1 = []\n",
    "kl_divergence_list2 = []"
   ]
  },
  {
   "cell_type": "code",
   "execution_count": 55,
   "id": "eb3657b1",
   "metadata": {},
   "outputs": [],
   "source": [
    "# Number of iterations\n",
    "num_iterations = 10"
   ]
  },
  {
   "cell_type": "code",
   "execution_count": 56,
   "id": "a014a960",
   "metadata": {},
   "outputs": [],
   "source": [
    "# Number of iterations\n",
    "num_iterations = 10\n",
    "sample_size = 5000  # Sample size should not exceed the population size\n",
    "\n",
    "for _ in range(num_iterations):\n",
    "    # Take n samples from the CPD distribution\n",
    "    data_df = bn.sampling(model_update, n=sample_size, methodtype='bayes')\n",
    "    \n",
    "    # Generate samples from the ground truth model\n",
    "    ground_truth_samples = ground_truth_df.sample(n=sample_size, random_state=1)\n",
    "    ground_truth_samples_df = pd.DataFrame(ground_truth_samples)\n",
    "    \n",
    "    # Perform KL divergence analysis for the full conditional distribution between the baseline model and the ground truth model\n",
    "    kl_divergence1 = kl_div(ground_truth_samples_df['BadTreeCondition'].value_counts(normalize=True),\n",
    "                           data_df['BadTreeCondition'].value_counts(normalize=True))\n",
    "    \n",
    "    kl_divergence_list1.append(kl_divergence1)\n",
    "    \n",
    "    # Perform KL divergence analysis for another distribution (you can add more as needed)\n",
    "    kl_divergence2 = kl_div(ground_truth_samples_df['BadCropCondition'].value_counts(normalize=True),\n",
    "                           data_df['BadCropCondition'].value_counts(normalize=True))\n",
    "    \n",
    "    kl_divergence_list2.append(kl_divergence2)"
   ]
  },
  {
   "cell_type": "code",
   "execution_count": 57,
   "id": "c9ce7d29",
   "metadata": {},
   "outputs": [],
   "source": [
    "# Calculate mean and standard deviation of KL Divergence values\n",
    "kl_divergence_mean1 = np.mean(kl_divergence_list1)\n",
    "kl_divergence_std_dev1 = np.std(kl_divergence_list1)\n",
    "\n",
    "kl_divergence_mean2 = np.mean(kl_divergence_list2)\n",
    "kl_divergence_std_dev2 = np.std(kl_divergence_list2)"
   ]
  },
  {
   "cell_type": "code",
   "execution_count": 58,
   "id": "fe046a17",
   "metadata": {},
   "outputs": [
    {
     "name": "stdout",
     "output_type": "stream",
     "text": [
      "Mean KL Divergence 1: 0.001018065690917319\n",
      "Standard Deviation KL Divergence 1: 0.00045042149892607033\n",
      "Mean KL Divergence 2: 0.00028485965708147933\n",
      "Standard Deviation KL Divergence 2: 0.00022732993258675553\n"
     ]
    }
   ],
   "source": [
    "print(f\"Mean KL Divergence 1: {kl_divergence_mean1}\")\n",
    "print(f\"Standard Deviation KL Divergence 1: {kl_divergence_std_dev1}\")\n",
    "\n",
    "print(f\"Mean KL Divergence 2: {kl_divergence_mean2}\")\n",
    "print(f\"Standard Deviation KL Divergence 2: {kl_divergence_std_dev2}\")"
   ]
  },
  {
   "cell_type": "code",
   "execution_count": null,
   "id": "18f61d01",
   "metadata": {},
   "outputs": [],
   "source": []
  },
  {
   "cell_type": "code",
   "execution_count": null,
   "id": "b5184807",
   "metadata": {},
   "outputs": [],
   "source": []
  }
 ],
 "metadata": {
  "kernelspec": {
   "display_name": "Python 3 (ipykernel)",
   "language": "python",
   "name": "python3"
  },
  "language_info": {
   "codemirror_mode": {
    "name": "ipython",
    "version": 3
   },
   "file_extension": ".py",
   "mimetype": "text/x-python",
   "name": "python",
   "nbconvert_exporter": "python",
   "pygments_lexer": "ipython3",
   "version": "3.10.4"
  }
 },
 "nbformat": 4,
 "nbformat_minor": 5
}
